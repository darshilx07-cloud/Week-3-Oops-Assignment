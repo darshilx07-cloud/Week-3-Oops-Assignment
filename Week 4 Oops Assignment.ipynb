{
 "cells": [
  {
   "cell_type": "markdown",
   "id": "662b8072-ff79-4314-890f-d7522fb86f4e",
   "metadata": {},
   "source": [
    "# Python OOPs Questions & Answers"
   ]
  },
  {
   "cell_type": "code",
   "execution_count": null,
   "id": "2d277dc4-655e-46b8-bea4-a547283525d6",
   "metadata": {},
   "outputs": [],
   "source": []
  },
  {
   "cell_type": "markdown",
   "id": "7d06ef6f-5b30-42bc-b77f-91e59837acd1",
   "metadata": {},
   "source": [
    "### 1. What is Object-Oriented Programming (OOP)?\n",
    "##### ---> Object-Oriented Programming (OOP) is a programming paradigm based on the \n",
    "##### concept of \"objects\", which can contain data (in the form of fields or attributes) and \n",
    "##### code (in the form of methods or functions)."
   ]
  },
  {
   "cell_type": "code",
   "execution_count": null,
   "id": "e3b2296d-a118-4f66-a49c-369ea7dfc266",
   "metadata": {},
   "outputs": [],
   "source": []
  },
  {
   "cell_type": "markdown",
   "id": "9be1aee1-38fe-4a04-a003-4de72252dee2",
   "metadata": {},
   "source": [
    "### 2. What is a class in OOP?\n",
    "##### ---> In Object-Oriented Programming (OOP), a class is a blueprint or template used \n",
    "##### to create objects. It defines a data structure (called fields or attributes) and \n",
    "##### the behaviors (called methods) that the objects created from the class will have.\n",
    "\n",
    "\n",
    "### Key Points:\n",
    "\n",
    "     - A class does not occupy memory until an object is created from it.\n",
    "    \n",
    "     - It defines what an object knows (its attributes) and what it does \n",
    "       (its methods).\n",
    "    \n",
    "     - Classes promote reusability, organization, and encapsulation of code"
   ]
  },
  {
   "cell_type": "code",
   "execution_count": null,
   "id": "16a294d9-9dbb-4839-a6bb-ecdf575e5089",
   "metadata": {},
   "outputs": [],
   "source": []
  },
  {
   "cell_type": "markdown",
   "id": "83a5c4f8-4fc0-4611-80b1-fa8d2b412e0f",
   "metadata": {},
   "source": [
    "### 3. What is an object in OOP?\n",
    "\n",
    "##### ---> In Object-Oriented Programming (OOP), an object is a real-world entity or instance of a \n",
    "##### class. It represents a specific version of a class with actual values stored in memory."
   ]
  },
  {
   "cell_type": "code",
   "execution_count": null,
   "id": "7a7c40d9-0ba0-426f-92d0-244c7c587f7a",
   "metadata": {},
   "outputs": [],
   "source": []
  },
  {
   "cell_type": "markdown",
   "id": "e546a453-13e0-496f-b3dc-b6f20040bb43",
   "metadata": {},
   "source": [
    "### 4. What is the difference between abstraction and encapsulation?\n",
    "\n",
    "##### ---> The terms abstraction and encapsulation are both fundamental to Object-Oriented \n",
    "##### Programming (OOP), but they serve different purposes\n",
    "\n",
    "### In Simple Terms:\n",
    "\n",
    "##### Abstraction = Hide unnecessary details, show only relevant parts.\n",
    "\n",
    "##### Encapsulation = Hide the internal data, allow controlled access."
   ]
  },
  {
   "cell_type": "code",
   "execution_count": null,
   "id": "07e8ae00-3acf-4ab8-a0a1-c5d8dcf1df10",
   "metadata": {},
   "outputs": [],
   "source": []
  },
  {
   "cell_type": "markdown",
   "id": "657c5520-4cc4-438b-9f7f-93362bfaa48b",
   "metadata": {},
   "source": [
    "### 5. What are dunder methods in Python?\n",
    "\n",
    "##### ---> Dunder methods (short for \"double underscore methods\") are special methods in Python \n",
    "##### that begin and end with double underscores (__). They're also known as magic methods \n",
    "##### or special methods."
   ]
  },
  {
   "cell_type": "code",
   "execution_count": null,
   "id": "b6dc0915-b9b4-401e-af7a-49351ab77e98",
   "metadata": {},
   "outputs": [],
   "source": []
  },
  {
   "cell_type": "markdown",
   "id": "0e020d9a-3640-49f4-9903-5bbbc163c3f0",
   "metadata": {},
   "source": [
    "### 6. Explain the concept of inheritance in OOP?\n",
    "\n",
    "##### ---> Inheritance is a fundamental concept in Object-Oriented Programming (OOP) \n",
    "##### that allows a class (child or subclass) to inherit properties and behaviors (attributes and\n",
    "##### methods) from another class (parent or superclass)."
   ]
  },
  {
   "cell_type": "code",
   "execution_count": null,
   "id": "c3ff9e06-d0f0-4419-9bc2-a38ed34c3a3a",
   "metadata": {},
   "outputs": [],
   "source": []
  },
  {
   "cell_type": "markdown",
   "id": "5f0c820a-a2aa-4553-8d72-8220d12eabe0",
   "metadata": {},
   "source": [
    "### 7. What is polymorphism in OOP?\n",
    "\n",
    "##### ---> Polymorphism in Object-Oriented Programming (OOP) means \"many forms\". It \n",
    "##### allows objects of different classes to be treated as objects of a common superclass,\n",
    "#####  and enables the same operation or method name to behave differently based on the\n",
    "##### object that invokes it."
   ]
  },
  {
   "cell_type": "code",
   "execution_count": null,
   "id": "4e75e4c6-19ce-470f-b488-263b5d9d9314",
   "metadata": {},
   "outputs": [],
   "source": []
  },
  {
   "cell_type": "markdown",
   "id": "94ca16b6-9f2f-4343-8234-d2f779099970",
   "metadata": {},
   "source": [
    "### 8. How is encapsulation achieved in Python?\n",
    "\n",
    "##### ---> Encapsulation is the bundling of data (attributes) and methods (functions) \n",
    "##### that operate on that data into a single unit (class), while restricting direct access to some \n",
    "##### of the object's components to protect the integrity of the data."
   ]
  },
  {
   "cell_type": "code",
   "execution_count": null,
   "id": "1539db67-f841-4587-8eb9-673547cbdc77",
   "metadata": {},
   "outputs": [],
   "source": []
  },
  {
   "cell_type": "markdown",
   "id": "3d7b6375-5bcd-4003-b5be-f4945b30940c",
   "metadata": {},
   "source": [
    "### 9. What is a constructor in Python?\n",
    "\n",
    "##### ---> A constructor in Python is a special method used to initialize a newly \n",
    "##### created object of a class. It is automatically called when a new object is created."
   ]
  },
  {
   "cell_type": "code",
   "execution_count": null,
   "id": "b7248326-462e-43d1-9746-1a3fd64d87ad",
   "metadata": {},
   "outputs": [],
   "source": []
  },
  {
   "cell_type": "markdown",
   "id": "1a7db483-ab11-4cde-8de4-6f678420e8bd",
   "metadata": {},
   "source": [
    "### 10. What are class and static methods in Python?\n",
    "\n",
    "##### ---> Both class methods and static methods are special types of methods in Python \n",
    "##### that are defined using decorators and are not the same as instance methods. They are used for \n",
    "##### purposes where instance-specific behavior is not required.\n",
    "\n",
    "### 1) Class Method :\n",
    "##### A class method is bound to the class, not the object. It can access or modify \n",
    "##### class state (like class variables) using cls.\n",
    "\n",
    "### 2) Static Method :\n",
    "##### A static method is not bound to instance or class. It behaves like a regular \n",
    "##### function, but is placed inside the class for logical grouping."
   ]
  },
  {
   "cell_type": "code",
   "execution_count": null,
   "id": "152d5efc-4fac-4e1a-8c63-0a26e98ab25d",
   "metadata": {},
   "outputs": [],
   "source": []
  },
  {
   "cell_type": "markdown",
   "id": "edfcd6d3-9840-4df4-91ae-a31f89ff4e25",
   "metadata": {},
   "source": [
    "### 11. What is method overloading in Python?\n",
    "\n",
    "##### ---> Method overloading in Python refers to the ability to define multiple methods \n",
    "##### with the same name but different parameters within the same class.\n",
    "\n",
    "#### Briefly :\n",
    "##### Python does not support traditional method overloading like some other languages \n",
    "##### (e.g., Java). Instead, you can achieve similar behavior by using default arguments, *args, \n",
    "##### or checking argument types inside a single method."
   ]
  },
  {
   "cell_type": "code",
   "execution_count": null,
   "id": "9a59b0ee-0729-48ad-babc-e12ffd0f66bc",
   "metadata": {},
   "outputs": [],
   "source": []
  },
  {
   "cell_type": "markdown",
   "id": "ffad335c-b95d-42c0-89f3-2ffcaeeb78b9",
   "metadata": {},
   "source": [
    "### 12.  What is method overriding in OOP?\n",
    "\n",
    "##### ---> Method overriding occurs when a subclass (child class) provides its own specific \n",
    "##### implementation of a method that is already defined in its superclass (parent class)."
   ]
  },
  {
   "cell_type": "code",
   "execution_count": null,
   "id": "25e3d662-5551-473a-8260-8e8de4024f21",
   "metadata": {},
   "outputs": [],
   "source": []
  },
  {
   "cell_type": "markdown",
   "id": "d156031c-f9ca-435b-a034-537a96ea6c36",
   "metadata": {},
   "source": [
    "### 13. What is a property decorator in Python?\n",
    "\n",
    "##### ---> The @property decorator in Python is a way to define methods that behave like attributes. \n",
    "##### It allows you to access methods as if they were attributes, enabling controlled access to instance \n",
    "##### variables while keeping the syntax simple and clean."
   ]
  },
  {
   "cell_type": "code",
   "execution_count": null,
   "id": "92204cba-0c31-4753-ba53-65fa631e2edf",
   "metadata": {},
   "outputs": [],
   "source": []
  },
  {
   "cell_type": "markdown",
   "id": "292a946b-a852-4522-ac31-bc30b51990e4",
   "metadata": {},
   "source": [
    "### 14. Why is polymorphism important in OOP?\n",
    "\n",
    "##### ---> Polymorphism is important in OOP because it enables flexibility and extensibility\n",
    "#####  in code by allowing objects of different classes to be treated through a common \n",
    "##### interface.  This means you can write more generic and reusable code that works with different \n",
    "##### object types, while each object can behave differently when the same method is called."
   ]
  },
  {
   "cell_type": "code",
   "execution_count": null,
   "id": "280b7799-1820-464d-9e87-d8fb00ba3e28",
   "metadata": {},
   "outputs": [],
   "source": []
  },
  {
   "cell_type": "markdown",
   "id": "eca0f31a-9597-426e-be9e-ac34a338ec12",
   "metadata": {},
   "source": [
    "### 15. What is an abstract class in Python?\n",
    "\n",
    "##### ---> An abstract class is a class that cannot be instantiated directly and is meant to be a \n",
    "##### blueprint for other classes. It can define abstract methods that must be implemented by \n",
    "##### any subclass, ensuring a certain interface or behavior."
   ]
  },
  {
   "cell_type": "code",
   "execution_count": null,
   "id": "9295ab75-aed9-4990-80b3-f1028f24bcd8",
   "metadata": {},
   "outputs": [],
   "source": []
  },
  {
   "cell_type": "markdown",
   "id": "3fda1dd6-7b4d-4db5-9e17-70e8d439af46",
   "metadata": {},
   "source": [
    "### 16. What are the advantages of OOP?\n",
    "\n",
    "##### ---> Advantages of Object-Oriented Programming (OOP) are: \n",
    "###### 1) Modularity\n",
    "###### 2) Reusability\n",
    "###### 3) Scalability\n",
    "###### 4) Encapsulation\n",
    "###### 5) Abstraction\n",
    "###### 6) Polymorphism\n",
    "###### 7) Improved Maintainability\n",
    "###### 8) Real-World Modeling"
   ]
  },
  {
   "cell_type": "code",
   "execution_count": null,
   "id": "32597909-313c-4360-bb87-7c3ebeae6f20",
   "metadata": {},
   "outputs": [],
   "source": []
  },
  {
   "cell_type": "markdown",
   "id": "30d774b8-d19a-4b19-a090-4805779d4daa",
   "metadata": {},
   "source": [
    "### 17. What is the difference between a class variable and an instance variable?\n",
    "\n",
    "##### ---> Class variables : are shared by all instances of the class. Changing a class variable  \n",
    "##### affects all instances.\n",
    "\n",
    "###### .\n",
    "\n",
    "##### ---> Instance variables : are unique to each instance. Changing one instance’s variable  \n",
    "##### does not affect others."
   ]
  },
  {
   "cell_type": "code",
   "execution_count": null,
   "id": "b0a69c17-56b5-4501-a80b-31391acfffaf",
   "metadata": {},
   "outputs": [],
   "source": []
  },
  {
   "cell_type": "markdown",
   "id": "fc148e73-e471-4521-bd9b-14a64217bbac",
   "metadata": {},
   "source": [
    "### 18.  What is multiple inheritance in Python?\n",
    "\n",
    "##### ---> Multiple inheritance is a feature in Python where a class can inherit attributes and \n",
    "##### methods from more than one parent class.\n",
    "\n",
    "#### Key Points:\n",
    "\n",
    "    1) A subclass can have more than one superclass.\n",
    "    2) It inherits features from all parent classes.\n",
    "    3) Used to combine behaviors and attributes from multiple sources.\n",
    "    4) Can lead to complexity like the Diamond Problem, but Python uses Method Resolution Order (MRO) to handle it.\n",
    "\n"
   ]
  },
  {
   "cell_type": "code",
   "execution_count": null,
   "id": "06a10cad-7f3a-4e18-acba-317f693eca68",
   "metadata": {},
   "outputs": [],
   "source": []
  },
  {
   "cell_type": "markdown",
   "id": "ea526090-66c6-4ce6-a40c-4fcefd74c52f",
   "metadata": {},
   "source": [
    "### 19. Explain the purpose of ‘’__str__’ and ‘__repr__’ ‘ methods in Python?\n",
    "\n",
    "##### ---> Purpose of __str__ and __repr__ Methods in Python : \n",
    "\n",
    "##### Both __str__ and __repr__ are special dunder methods used to define string representations of \n",
    "##### Python objects, but they serve different purposes:\n",
    "\n",
    "### 1) . __repr__\n",
    "\n",
    "    1) Goal: Provide an unambiguous string representation of the object, ideally one that could be used to recreate the object (or at least give detailed debugging info).\n",
    "    \n",
    "    2) Used by: The built-in repr() function and when you inspect the object in the interpreter.\n",
    "    \n",
    "    3) Typical use case: For developers, debugging, logging.\n",
    "\n",
    "### 2) __str__\n",
    "\n",
    "    1) Goal: Provide a readable, user-friendly string representation of the object.\n",
    "    \n",
    "    2) Used by: The built-in str() function and when you use print() on the object.\n",
    "    \n",
    "    3) Typical use case: For end-users, display purposes.\n",
    "    \n"
   ]
  },
  {
   "cell_type": "code",
   "execution_count": null,
   "id": "51e43559-03e8-48d9-b404-9e43782a53ab",
   "metadata": {},
   "outputs": [],
   "source": []
  },
  {
   "cell_type": "markdown",
   "id": "c6922854-f873-47a4-941d-a44953417d6c",
   "metadata": {},
   "source": [
    "### 20.  What is the significance of the ‘super()’ function in Python?\n",
    "\n",
    "##### ---> The super() function is used to call methods from a parent (super) class inside a subclass. \n",
    "##### It helps you access inherited methods without explicitly naming the parent class, making\n",
    "##### your code more maintainable and supporting multiple inheritance cleanly."
   ]
  },
  {
   "cell_type": "code",
   "execution_count": null,
   "id": "7a5f011f-79dd-49e0-b687-9d6ef75e78a4",
   "metadata": {},
   "outputs": [],
   "source": []
  },
  {
   "cell_type": "markdown",
   "id": "6da8fd41-cacc-4270-8e18-e0d55067232c",
   "metadata": {},
   "source": [
    "### 21. What is the significance of the __del__ method in Python?\n",
    "\n",
    "##### ---> The __del__ method is a special destructor method in Python. It is called when an object is \n",
    "##### about to be destroyed—that is, when the object’s reference count reaches zero and \n",
    "##### Python’s garbage collector is about to reclaim its memory. "
   ]
  },
  {
   "cell_type": "code",
   "execution_count": null,
   "id": "cd345023-f496-4289-8eaa-d68f91b4f488",
   "metadata": {},
   "outputs": [],
   "source": []
  },
  {
   "cell_type": "markdown",
   "id": "85a2cda0-5c22-4a6f-ab6f-8ce2a492201c",
   "metadata": {},
   "source": [
    "### 22. What is the difference between @staticmethod and @classmethod in Python?\n",
    "\n",
    "##### --> @staticmethod: Just a regular function placed inside a class for organization. No access to \n",
    "##### class or instance data.\n",
    "\n",
    "###### .\n",
    "\n",
    "##### ---> @classmethod: Receives the class as the first argument and can access or modify class state."
   ]
  },
  {
   "cell_type": "code",
   "execution_count": null,
   "id": "bb42c45b-fda3-41c0-8bea-469c9e5a78f3",
   "metadata": {},
   "outputs": [],
   "source": []
  },
  {
   "cell_type": "markdown",
   "id": "d94f8d9a-fefb-4525-8b6a-5bfa068e3083",
   "metadata": {},
   "source": [
    "### 23. How does polymorphism work in Python with inheritance?\n",
    "\n",
    "##### ---> Polymorphism means “many forms.” In OOP, it allows different classes to be treated  \n",
    "##### through the same interface, especially when they share a common superclass.\n",
    "\n",
    "###### .\n",
    "\n",
    "##### ---> When classes inherit from a common parent class, polymorphism lets you call the same  \n",
    "##### method on objects of different classes, and each object responds in its own way."
   ]
  },
  {
   "cell_type": "code",
   "execution_count": null,
   "id": "c32bba1c-0c15-4f64-9fa6-5ef56de6cef3",
   "metadata": {},
   "outputs": [],
   "source": []
  },
  {
   "cell_type": "markdown",
   "id": "9009adcb-15cd-49ce-be3e-6c590b6d4c80",
   "metadata": {},
   "source": [
    "### 24.  What is method chaining in Python OOP?\n",
    "\n",
    "##### --->Method chaining is a technique where multiple method calls are linked together in a single \n",
    "##### statement, one after another, by having each method return the object itself (self). This allows \n",
    "##### you to write cleaner and more fluent code."
   ]
  },
  {
   "cell_type": "code",
   "execution_count": null,
   "id": "454d36f5-c870-4c2c-bfc5-82a333acb861",
   "metadata": {},
   "outputs": [],
   "source": []
  },
  {
   "cell_type": "markdown",
   "id": "ad7044aa-ebe6-47f1-8000-6568e2baf7cb",
   "metadata": {},
   "source": [
    "### 25. What is the purpose of the __call__ method in Python?\n",
    "\n",
    "##### ---> The __call__ method allows an instance of a class to be called like a regular function. When \n",
    "##### you define __call__ in a class, you can use parentheses () on an instance to execute that method.\n",
    "\n",
    "###### . \n",
    "\n",
    "### Why use __call__?\n",
    "\n",
    "    1) To make objects callable, providing function-like behavior.\n",
    "    \n",
    "    2) Useful for objects that act like functions but also maintain state or configuration.\n",
    "    \n",
    "    3) Can make APIs cleaner and more intuitive."
   ]
  },
  {
   "cell_type": "code",
   "execution_count": null,
   "id": "10f1917a-cd8f-4a3b-8793-e8d71b23884e",
   "metadata": {},
   "outputs": [],
   "source": []
  },
  {
   "cell_type": "code",
   "execution_count": null,
   "id": "74b3031e-ef0e-4743-87c1-47f87b5f1c55",
   "metadata": {},
   "outputs": [],
   "source": []
  },
  {
   "cell_type": "markdown",
   "id": "8f949139-9877-4a57-a4e7-898ff4a47813",
   "metadata": {},
   "source": [
    "# Practical Questions"
   ]
  },
  {
   "cell_type": "code",
   "execution_count": null,
   "id": "3bcc20e0-6f49-4e8e-809e-269af905c00c",
   "metadata": {},
   "outputs": [],
   "source": []
  },
  {
   "cell_type": "code",
   "execution_count": 1,
   "id": "eec79c91-8f4a-4302-89ff-e994ebfbbe60",
   "metadata": {},
   "outputs": [
    {
     "name": "stdout",
     "output_type": "stream",
     "text": [
      "This animal makes a sound.\n",
      "Bark!\n"
     ]
    }
   ],
   "source": [
    "# 1) Create a parent class Animal with a method speak() that prints a generic message. \n",
    "# Create a child class Dog that overrides the speak() method to print \"Bark!\".\n",
    "\n",
    "class Animal:\n",
    "    def speak(self):\n",
    "        print(\"This animal makes a sound.\")\n",
    "\n",
    "class Dog(Animal):\n",
    "    def speak(self):\n",
    "        print(\"Bark!\")\n",
    "\n",
    "# Example usage:\n",
    "animal = Animal()\n",
    "animal.speak()  # Output: This animal makes a sound.\n",
    "\n",
    "dog = Dog()\n",
    "dog.speak()     # Output: Bark!\n"
   ]
  },
  {
   "cell_type": "code",
   "execution_count": null,
   "id": "74f73074-b6ea-4ba8-8222-f82df19edf22",
   "metadata": {},
   "outputs": [],
   "source": []
  },
  {
   "cell_type": "code",
   "execution_count": 6,
   "id": "2ce18011-30a7-4687-b909-8ca20d48fe7a",
   "metadata": {},
   "outputs": [
    {
     "name": "stdout",
     "output_type": "stream",
     "text": [
      "Circle area: 78.54\n",
      "Rectangle area: 28\n"
     ]
    }
   ],
   "source": [
    "# 2)   Write a program to create an abstract class Shape with a method area(). Derive \n",
    "# classes Circle and Rectangle from it and implement the area() method in both?\n",
    "\n",
    "from abc import ABC, abstractmethod\n",
    "import math\n",
    "\n",
    "class Shape(ABC):\n",
    "    @abstractmethod\n",
    "    def area(self):\n",
    "        pass  # Abstract method\n",
    "\n",
    "class Circle(Shape):\n",
    "    def __init__(self, radius):\n",
    "        self.radius = radius\n",
    "\n",
    "    def area(self):\n",
    "        return math.pi * (self.radius ** 2)\n",
    "\n",
    "class Rectangle(Shape):\n",
    "    def __init__(self, width, height):\n",
    "        self.width = width\n",
    "        self.height = height\n",
    "\n",
    "    def area(self):\n",
    "        return self.width * self.height\n",
    "\n",
    "circle = Circle(5)\n",
    "rectangle = Rectangle(4, 7)\n",
    "\n",
    "print(f\"Circle area: {circle.area():.2f}\")     \n",
    "print(f\"Rectangle area: {rectangle.area()}\") \n",
    "\n"
   ]
  },
  {
   "cell_type": "code",
   "execution_count": null,
   "id": "2f80ce43-4e83-45d9-8a57-34bf9c5e7baa",
   "metadata": {},
   "outputs": [],
   "source": []
  },
  {
   "cell_type": "code",
   "execution_count": 9,
   "id": "725f0181-22cc-41d2-9d43-ba94c65608c8",
   "metadata": {},
   "outputs": [
    {
     "name": "stdout",
     "output_type": "stream",
     "text": [
      "Vehicle type: Electric\n",
      "Car brand: Maruti Suzuki India Limited\n",
      "Battery capacity: 75 kWh\n"
     ]
    }
   ],
   "source": [
    "# 3) Implement a multi-level inheritance scenario where a class Vehicle has an attribute \n",
    "# type. Derive a class Car and further derive a class ElectricCar that adds a battery \n",
    "# attribute? \n",
    "\n",
    "# Base class\n",
    "class Vehicle:\n",
    "    def __init__(self, vehicle_type):\n",
    "        self.type = vehicle_type\n",
    "\n",
    "    def display_type(self):\n",
    "        print(f\"Vehicle type: {self.type}\")\n",
    "\n",
    "# Derived class from Vehicle\n",
    "class Car(Vehicle):\n",
    "    def __init__(self, vehicle_type, brand):\n",
    "        super().__init__(vehicle_type)  # Call Vehicle's constructor\n",
    "        self.brand = brand\n",
    "\n",
    "    def display_brand(self):\n",
    "        print(f\"Car brand: {self.brand}\")\n",
    "\n",
    "# Further derived class from Car\n",
    "class ElectricCar(Car):\n",
    "    def __init__(self, vehicle_type, brand, battery_capacity):\n",
    "        super().__init__(vehicle_type, brand)  # Call Car's constructor\n",
    "        self.battery = battery_capacity\n",
    "\n",
    "    def display_battery(self):\n",
    "        print(f\"Battery capacity: {self.battery} kWh\")\n",
    "\n",
    "# Example usage\n",
    "ev = ElectricCar(\"Electric\", \"Maruti Suzuki India Limited\", 75)\n",
    "ev.display_type()      \n",
    "ev.display_brand()     \n",
    "ev.display_battery()   # Output: Battery capacity: 75 kWh\n"
   ]
  },
  {
   "cell_type": "code",
   "execution_count": null,
   "id": "33b8bf2c-5d84-4907-9b05-3dafca82a4c4",
   "metadata": {},
   "outputs": [],
   "source": []
  },
  {
   "cell_type": "code",
   "execution_count": 10,
   "id": "65f39174-8b97-4fb5-9def-e879e08bd591",
   "metadata": {},
   "outputs": [
    {
     "name": "stdout",
     "output_type": "stream",
     "text": [
      "Sparrow flies high in the sky.\n",
      "Penguins cannot fly, but they swim well.\n"
     ]
    }
   ],
   "source": [
    "# 4) Demonstrate polymorphism by creating a base class Bird with a method fly(). \n",
    "# Create two derived classes Sparrow and Penguin that override the fly() method?\n",
    "\n",
    "# Base class\n",
    "class Bird:\n",
    "    def fly(self):\n",
    "        print(\"Some bird is flying.\")\n",
    "\n",
    "# Derived class\n",
    "class Sparrow(Bird):\n",
    "    def fly(self):\n",
    "        print(\"Sparrow flies high in the sky.\")\n",
    "\n",
    "# Derived class\n",
    "class Penguin(Bird):\n",
    "    def fly(self):\n",
    "        print(\"Penguins cannot fly, but they swim well.\")\n",
    "\n",
    "# Function that demonstrates polymorphism\n",
    "def bird_flight(bird: Bird):\n",
    "    bird.fly()\n",
    "\n",
    "# Example usage\n",
    "sparrow = Sparrow()\n",
    "penguin = Penguin()\n",
    "\n",
    "bird_flight(sparrow)   # Output: Sparrow flies high in the sky.\n",
    "bird_flight(penguin)   # Output: Penguins cannot fly, but they swim well.\n",
    "\n"
   ]
  },
  {
   "cell_type": "code",
   "execution_count": null,
   "id": "e8a03454-4cb2-4d80-88ec-07a95d8e48e6",
   "metadata": {},
   "outputs": [],
   "source": []
  },
  {
   "cell_type": "code",
   "execution_count": 13,
   "id": "b780713c-f186-4cdb-9ce1-25208d648525",
   "metadata": {},
   "outputs": [
    {
     "name": "stdout",
     "output_type": "stream",
     "text": [
      "Current balance: ₹100000\n",
      "Deposited: ₹5000\n",
      "Withdrawn: ₹30000\n",
      "Current balance: ₹75000\n"
     ]
    }
   ],
   "source": [
    "# 5) Write a program to demonstrate encapsulation by creating a class BankAccount with \n",
    "# private attributes balance and methods to deposit, withdraw, and check balance?\n",
    "\n",
    "class BankAccount:\n",
    "    def __init__(self, initial_balance=0):\n",
    "        self.__balance = initial_balance  # Private attribute\n",
    "\n",
    "    def deposit(self, amount):\n",
    "        if amount > 0:\n",
    "            self.__balance += amount\n",
    "            print(f\"Deposited: ₹{amount}\")\n",
    "        else:\n",
    "            print(\"Invalid deposit amount.\")\n",
    "\n",
    "    def withdraw(self, amount):\n",
    "        if 0 < amount <= self.__balance:\n",
    "            self.__balance -= amount\n",
    "            print(f\"Withdrawn: ₹{amount}\")\n",
    "        else:\n",
    "            print(\"Invalid or insufficient funds.\")\n",
    "\n",
    "    def check_balance(self):\n",
    "        print(f\"Current balance: ₹{self.__balance}\")\n",
    "\n",
    "# Example usage\n",
    "account = BankAccount(100000)\n",
    "account.check_balance()     # Output: Current balance: ₹100\n",
    "account.deposit(5000)         # Output: Deposited: ₹50\n",
    "account.withdraw(30000)        # Output: Withdrawn: ₹30\n",
    "account.check_balance()     # Output: Current balance: ₹120\n"
   ]
  },
  {
   "cell_type": "code",
   "execution_count": null,
   "id": "c1a3f4ae-0002-4c34-a89e-0e98da1129f4",
   "metadata": {},
   "outputs": [],
   "source": []
  },
  {
   "cell_type": "code",
   "execution_count": 14,
   "id": "48cef423-ea33-4685-b3ee-fd6e3acf6ac9",
   "metadata": {},
   "outputs": [
    {
     "name": "stdout",
     "output_type": "stream",
     "text": [
      "Strumming the guitar.\n",
      "Playing the piano.\n"
     ]
    }
   ],
   "source": [
    "# 6) . Demonstrate runtime polymorphism using a method play() in a base class Instrument. \n",
    "# Derive classes Guitar and Piano that implement their own version of play()? \n",
    "\n",
    "# Base class\n",
    "class Instrument:\n",
    "    def play(self):\n",
    "        print(\"Playing an instrument.\")\n",
    "\n",
    "# Derived class\n",
    "class Guitar(Instrument):\n",
    "    def play(self):\n",
    "        print(\"Strumming the guitar.\")\n",
    "\n",
    "# Derived class\n",
    "class Piano(Instrument):\n",
    "    def play(self):\n",
    "        print(\"Playing the piano.\")\n",
    "\n",
    "# Function that accepts any Instrument\n",
    "def start_performance(instrument: Instrument):\n",
    "    instrument.play()  # Polymorphic behavior\n",
    "\n",
    "# Example usage\n",
    "guitar = Guitar()\n",
    "piano = Piano()\n",
    "\n",
    "start_performance(guitar)  # Output: Strumming the guitar.\n",
    "start_performance(piano)   # Output: Playing the piano.\n"
   ]
  },
  {
   "cell_type": "code",
   "execution_count": null,
   "id": "084ce4de-ef81-412a-b41f-52478b3b9499",
   "metadata": {},
   "outputs": [],
   "source": []
  },
  {
   "cell_type": "code",
   "execution_count": 15,
   "id": "1ae24737-868f-40e0-aa95-67bfef83914d",
   "metadata": {},
   "outputs": [
    {
     "name": "stdout",
     "output_type": "stream",
     "text": [
      "Sum: 15\n",
      "Difference: 5\n"
     ]
    }
   ],
   "source": [
    "# 7) Create a class MathOperations with a class method add_numbers() to add two numbers \n",
    "# and a static method subtract_numbers() to subtract two numbers.\n",
    "\n",
    "class MathOperations:\n",
    "    @classmethod\n",
    "    def add_numbers(cls, a, b):\n",
    "        return a + b\n",
    "\n",
    "    @staticmethod\n",
    "    def subtract_numbers(a, b):\n",
    "        return a - b\n",
    "\n",
    "# Example usage:\n",
    "sum_result = MathOperations.add_numbers(10, 5)\n",
    "diff_result = MathOperations.subtract_numbers(10, 5)\n",
    "\n",
    "print(f\"Sum: {sum_result}\")        # Output: Sum: 15\n",
    "print(f\"Difference: {diff_result}\") # Output: Difference: 5\n"
   ]
  },
  {
   "cell_type": "code",
   "execution_count": null,
   "id": "d1573e46-8201-458c-8035-bfdc20ac717e",
   "metadata": {},
   "outputs": [],
   "source": []
  },
  {
   "cell_type": "code",
   "execution_count": 17,
   "id": "629f07ec-f56a-49ff-b129-503414498fc6",
   "metadata": {},
   "outputs": [
    {
     "name": "stdout",
     "output_type": "stream",
     "text": [
      "Total persons created: 3\n"
     ]
    }
   ],
   "source": [
    "# 8) Implement a class Person with a class method to count the total number of persons created? \n",
    "\n",
    "class Person:\n",
    "    count = 0  # Class variable to track number of persons\n",
    "\n",
    "    def __init__(self, name):\n",
    "        self.name = name\n",
    "        Person.count += 1  # Increment count whenever a new object is created\n",
    "\n",
    "    @classmethod\n",
    "    def total_persons(cls):\n",
    "        return cls.count\n",
    "\n",
    "# Example usage:\n",
    "p1 = Person(\"Darshil\")\n",
    "p2 = Person(\"Prince\")\n",
    "p3 = Person(\"Dvyansh\")\n",
    "\n",
    "print(f\"Total persons created: {Person.total_persons()}\")  # Output: Total persons created: 3\n"
   ]
  },
  {
   "cell_type": "code",
   "execution_count": null,
   "id": "15e083ad-c1e1-4215-9205-5f97e6094d76",
   "metadata": {},
   "outputs": [],
   "source": []
  },
  {
   "cell_type": "code",
   "execution_count": 18,
   "id": "ee6c8cf0-3c5c-4e7f-bb86-452d0d8144ab",
   "metadata": {},
   "outputs": [
    {
     "name": "stdout",
     "output_type": "stream",
     "text": [
      "3/4\n",
      "5/8\n"
     ]
    }
   ],
   "source": [
    "# 9)  Write a class Fraction with attributes numerator and denominator. Override the str method to display the\n",
    "# fraction as \"numerator/denominator\"?\n",
    "\n",
    "class Fraction:\n",
    "    def __init__(self, numerator, denominator):\n",
    "        self.numerator = numerator\n",
    "        self.denominator = denominator\n",
    "\n",
    "    def __str__(self):\n",
    "        return f\"{self.numerator}/{self.denominator}\"\n",
    "\n",
    "# Example usage:\n",
    "f1 = Fraction(3, 4)\n",
    "f2 = Fraction(5, 8)\n",
    "\n",
    "print(f1)  # Output: 3/4\n",
    "print(f2)  # Output: 5/8\n"
   ]
  },
  {
   "cell_type": "code",
   "execution_count": null,
   "id": "d159a319-66f4-4d26-95a5-89d9376ba934",
   "metadata": {},
   "outputs": [],
   "source": []
  },
  {
   "cell_type": "code",
   "execution_count": 19,
   "id": "f156ea8a-4814-4aae-953b-2fc6e6e905da",
   "metadata": {},
   "outputs": [
    {
     "name": "stdout",
     "output_type": "stream",
     "text": [
      "Vector(2, 3)\n",
      "Vector(4, 5)\n",
      "Vector(6, 8)\n"
     ]
    }
   ],
   "source": [
    "# 10) Demonstrate operator overloading by creating a class Vector and overriding the add method to add two\n",
    "# vectors.\n",
    "\n",
    "class Vector:\n",
    "    def __init__(self, x, y):\n",
    "        self.x = x\n",
    "        self.y = y\n",
    "\n",
    "    # Overloading the + operator\n",
    "    def __add__(self, other):\n",
    "        return Vector(self.x + other.x, self.y + other.y)\n",
    "\n",
    "    def __str__(self):\n",
    "        return f\"Vector({self.x}, {self.y})\"\n",
    "\n",
    "# Example usage:\n",
    "v1 = Vector(2, 3)\n",
    "v2 = Vector(4, 5)\n",
    "v3 = v1 + v2  # Uses the overloaded __add__ method\n",
    "\n",
    "print(v1)  # Output: Vector(2, 3)\n",
    "print(v2)  # Output: Vector(4, 5)\n",
    "print(v3)  # Output: Vector(6, 8)"
   ]
  },
  {
   "cell_type": "code",
   "execution_count": null,
   "id": "642f0447-22f5-4c9f-ab9f-26eee454beff",
   "metadata": {},
   "outputs": [],
   "source": []
  },
  {
   "cell_type": "code",
   "execution_count": 21,
   "id": "ceb8cd55-5574-4669-bd79-463117f2f0ed",
   "metadata": {},
   "outputs": [
    {
     "name": "stdout",
     "output_type": "stream",
     "text": [
      "Hello, my name is Darshil Mathur and I am 21 years old.\n",
      "Hello, my name is Divyansh Chopra and I am 20 years old.\n"
     ]
    }
   ],
   "source": [
    "# 11)  Create a class Person with attributes name and age. Add a method greet() that \n",
    "# prints \"Hello, my name is {name} and I am {age} years old.\"\n",
    "\n",
    "class Person:\n",
    "    def __init__(self, name, age):\n",
    "        self.name = name\n",
    "        self.age = age\n",
    "\n",
    "    def greet(self):\n",
    "        print(f\"Hello, my name is {self.name} and I am {self.age} years old.\")\n",
    "\n",
    "# Example usage:\n",
    "p1 = Person(\"Darshil Mathur\", 21)\n",
    "p2 = Person(\"Divyansh Chopra\", 20)\n",
    "\n",
    "p1.greet()  # Output: Hello, my name is Alice and I am 25 years old.\n",
    "p2.greet()  # Output: Hello, my name is Bob and I am 30 years old.\n"
   ]
  },
  {
   "cell_type": "code",
   "execution_count": null,
   "id": "f2b89464-b997-46c0-8279-16dbd481794e",
   "metadata": {},
   "outputs": [],
   "source": []
  },
  {
   "cell_type": "code",
   "execution_count": 23,
   "id": "cff94607-271d-4a60-bc94-45898c9ac622",
   "metadata": {},
   "outputs": [
    {
     "name": "stdout",
     "output_type": "stream",
     "text": [
      "Darshil's average grade: 84.33\n",
      "Prince's average grade: 88.50\n"
     ]
    }
   ],
   "source": [
    "# 12) Implement a class Student with attributes name and grades. Create a method average_grade() to compute\n",
    "# the average of the grades.\n",
    "\n",
    "class Student:\n",
    "    def __init__(self, name, grades):\n",
    "        self.name = name\n",
    "        self.grades = grades  # Expecting a list of numbers\n",
    "\n",
    "    def average_grade(self):\n",
    "        if not self.grades:\n",
    "            return 0\n",
    "        return sum(self.grades) / len(self.grades)\n",
    "\n",
    "# Example usage:\n",
    "student1 = Student(\"Darshil\", [85, 90, 78])\n",
    "student2 = Student(\"Prince\", [92, 88, 79, 95])\n",
    "\n",
    "print(f\"{student1.name}'s average grade: {student1.average_grade():.2f}\")  # Output: 84.33\n",
    "print(f\"{student2.name}'s average grade: {student2.average_grade():.2f}\")  # Output: 88.50\n"
   ]
  },
  {
   "cell_type": "code",
   "execution_count": null,
   "id": "8c9d1ae6-2441-4de9-822b-cd4fd5e31ba9",
   "metadata": {},
   "outputs": [],
   "source": []
  },
  {
   "cell_type": "code",
   "execution_count": 25,
   "id": "36c4e230-5208-4dbf-8bf1-c9ee29a3ccb9",
   "metadata": {},
   "outputs": [
    {
     "name": "stdout",
     "output_type": "stream",
     "text": [
      "Area of rectangle: 15\n"
     ]
    }
   ],
   "source": [
    "# 13)  Create a class Rectangle with methods set_dimensions() to set the dimensions and area() to calculate the\n",
    "# area?\n",
    "\n",
    "class Rectangle:\n",
    "    def __init__(self):\n",
    "        self.width = 0\n",
    "        self.height = 0\n",
    "\n",
    "    def set_dimensions(self, width, height):\n",
    "        self.width = width\n",
    "        self.height = height\n",
    "\n",
    "    def area(self):\n",
    "        return self.width * self.height\n",
    "\n",
    "# Example usage:\n",
    "rect = Rectangle()\n",
    "rect.set_dimensions(5, 3)\n",
    "print(f\"Area of rectangle: {rect.area()}\")  # Output: Area of rectangle: 15"
   ]
  },
  {
   "cell_type": "code",
   "execution_count": null,
   "id": "460c37c9-c787-457b-9149-288be9e9ee12",
   "metadata": {},
   "outputs": [],
   "source": []
  },
  {
   "cell_type": "code",
   "execution_count": 28,
   "id": "d8577bfa-003a-4c9c-afee-acd042fb194d",
   "metadata": {},
   "outputs": [
    {
     "name": "stdout",
     "output_type": "stream",
     "text": [
      "Darshil Mathur's salary: $800\n",
      "Prince Suthar's salary: $1700\n"
     ]
    }
   ],
   "source": [
    "# 14) Create a class Employee with a method calculate_salary() that computes the salary based on hours worked\n",
    "# and hourly rate. Create a derived class Manager that adds a bonus to the salary?\n",
    "\n",
    "class Employee:\n",
    "    def __init__(self, name, hours_worked, hourly_rate):\n",
    "        self.name = name\n",
    "        self.hours_worked = hours_worked\n",
    "        self.hourly_rate = hourly_rate\n",
    "\n",
    "    def calculate_salary(self):\n",
    "        return self.hours_worked * self.hourly_rate\n",
    "\n",
    "class Manager(Employee):\n",
    "    def __init__(self, name, hours_worked, hourly_rate, bonus):\n",
    "        super().__init__(name, hours_worked, hourly_rate)\n",
    "        self.bonus = bonus\n",
    "\n",
    "    def calculate_salary(self):\n",
    "        base_salary = super().calculate_salary()\n",
    "        return base_salary + self.bonus\n",
    "\n",
    "# Example usage:\n",
    "emp = Employee(\"Darshil Mathur\", 40, 20)\n",
    "mgr = Manager(\"Prince Suthar\", 40, 30, 500)\n",
    "\n",
    "print(f\"{emp.name}'s salary: ${emp.calculate_salary()}\")  # Output: Darshil's salary: $800\n",
    "print(f\"{mgr.name}'s salary: ${mgr.calculate_salary()}\")  # Output: Prince's salary: $1700\n"
   ]
  },
  {
   "cell_type": "code",
   "execution_count": null,
   "id": "d7b7b104-816c-433c-8c83-ba76482203fa",
   "metadata": {},
   "outputs": [],
   "source": []
  },
  {
   "cell_type": "code",
   "execution_count": 36,
   "id": "058b32ec-7818-47e6-b24e-37b9bdb0ba72",
   "metadata": {},
   "outputs": [
    {
     "name": "stdout",
     "output_type": "stream",
     "text": [
      "Total price for 3 Laptops: ₹156000\n"
     ]
    }
   ],
   "source": [
    "# 15) Create a class Product with attributes name, price, and quantity. Implement a method total_price() that\n",
    "# calculates the total price of the product.\n",
    "\n",
    "class Product:\n",
    "    def __init__(self, name, price, quantity):\n",
    "        self.name = name\n",
    "        self.price = price\n",
    "        self.quantity = quantity\n",
    "\n",
    "    def total_price(self):\n",
    "        return self.price * self.quantity\n",
    "\n",
    "# Example usage:\n",
    "product = Product(\"Laptop\", 52000, 3)\n",
    "print(f\"Total price for {product.quantity} {product.name}s: ₹{product.total_price()}\")  \n",
    "# Output: Total price for 3 Laptops: ₹1,56,000\n"
   ]
  },
  {
   "cell_type": "code",
   "execution_count": null,
   "id": "c0204742-0c80-479e-86a9-b3917aa7336a",
   "metadata": {},
   "outputs": [],
   "source": []
  },
  {
   "cell_type": "code",
   "execution_count": 37,
   "id": "4f874b3b-88a6-4086-9b7f-d97a6b52e002",
   "metadata": {},
   "outputs": [
    {
     "name": "stdout",
     "output_type": "stream",
     "text": [
      "Moo\n",
      "Baa\n"
     ]
    }
   ],
   "source": [
    "# 16) Create a class Animal with an abstract method sound(). Create two derived classes Cow and Sheep that\n",
    "# implement the sound() method?\n",
    "\n",
    "from abc import ABC, abstractmethod\n",
    "\n",
    "class Animal(ABC):\n",
    "    @abstractmethod\n",
    "    def sound(self):\n",
    "        pass\n",
    "\n",
    "class Cow(Animal):\n",
    "    def sound(self):\n",
    "        print(\"Moo\")\n",
    "\n",
    "class Sheep(Animal):\n",
    "    def sound(self):\n",
    "        print(\"Baa\")\n",
    "\n",
    "# Example usage:\n",
    "cow = Cow()\n",
    "sheep = Sheep()\n",
    "\n",
    "cow.sound()   # Output: Moo\n",
    "sheep.sound() # Output: Baa\n"
   ]
  },
  {
   "cell_type": "code",
   "execution_count": null,
   "id": "b341bafa-0589-4631-a63b-b3bfbe86861c",
   "metadata": {},
   "outputs": [],
   "source": []
  },
  {
   "cell_type": "code",
   "execution_count": 38,
   "id": "993cec7d-d8aa-4b12-baca-2c1662d61c78",
   "metadata": {},
   "outputs": [
    {
     "name": "stdout",
     "output_type": "stream",
     "text": [
      "'To Kill a Mockingbird' by Harper Lee, published in 1960\n"
     ]
    }
   ],
   "source": [
    "# 17)  Create a class Book with attributes title, author, and year_published. Add a method get_book_info() that\n",
    "# returns a formatted string with the book's details?\n",
    "\n",
    "class Book:\n",
    "    def __init__(self, title, author, year_published):\n",
    "        self.title = title\n",
    "        self.author = author\n",
    "        self.year_published = year_published\n",
    "\n",
    "    def get_book_info(self):\n",
    "        return f\"'{self.title}' by {self.author}, published in {self.year_published}\"\n",
    "\n",
    "# Example usage:\n",
    "book = Book(\"To Kill a Mockingbird\", \"Harper Lee\", 1960)\n",
    "print(book.get_book_info())\n",
    "# Output: 'To Kill a Mockingbird' by Harper Lee, published in 1960\n"
   ]
  },
  {
   "cell_type": "code",
   "execution_count": null,
   "id": "2f0b8253-7938-4cd5-9b0e-c74287532b00",
   "metadata": {},
   "outputs": [],
   "source": []
  },
  {
   "cell_type": "code",
   "execution_count": 42,
   "id": "8df1b14a-88d8-488f-a5d4-f2551973bef8",
   "metadata": {},
   "outputs": [
    {
     "name": "stdout",
     "output_type": "stream",
     "text": [
      "Address: C/46 Diamond Park Soc. Nikol, A'bad\n",
      "Price: ₹300000\n",
      "\n",
      "Address: 456 Luxury Blvd, sindhu bhavan Road\n",
      "Price: ₹1500000\n",
      "Number of rooms: 10\n"
     ]
    }
   ],
   "source": [
    "# 18)  Create a class House with attributes address and price. Create a derived class \n",
    "# Mansion that adds an attribute number_of_rooms.\n",
    "\n",
    "class House:\n",
    "    def __init__(self, address, price):\n",
    "        self.address = address\n",
    "        self.price = price\n",
    "\n",
    "    def display_info(self):\n",
    "        print(f\"Address: {self.address}\")\n",
    "        print(f\"Price: ₹{self.price}\")\n",
    "\n",
    "class Mansion(House):\n",
    "    def __init__(self, address, price, number_of_rooms):\n",
    "        super().__init__(address, price)\n",
    "        self.number_of_rooms = number_of_rooms\n",
    "\n",
    "    def display_info(self):\n",
    "        super().display_info()\n",
    "        print(f\"Number of rooms: {self.number_of_rooms}\")\n",
    "\n",
    "# Example usage:\n",
    "house = House(\"C/46 Diamond Park Soc. Nikol, A'bad\", 300000)\n",
    "mansion = Mansion(\"456 Luxury Blvd, sindhu bhavan Road\", 1500000, 10)\n",
    "\n",
    "house.display_info()\n",
    "# Output:\n",
    "# Address: 123 Main St\n",
    "# Price: ₹300000\n",
    "\n",
    "print()  # blank line\n",
    "\n",
    "mansion.display_info()\n",
    "# Output:\n",
    "# Address: 456 Luxury Blvd\n",
    "# Price: ₹1500000\n",
    "# Number of rooms: 10\n"
   ]
  },
  {
   "cell_type": "code",
   "execution_count": null,
   "id": "f30bba5e-069a-4651-bd26-d11f8f412836",
   "metadata": {},
   "outputs": [],
   "source": []
  },
  {
   "cell_type": "code",
   "execution_count": null,
   "id": "3ec93414-5e2d-4be0-8b53-6c52472d2910",
   "metadata": {},
   "outputs": [],
   "source": []
  }
 ],
 "metadata": {
  "kernelspec": {
   "display_name": "Python 3 (ipykernel)",
   "language": "python",
   "name": "python3"
  },
  "language_info": {
   "codemirror_mode": {
    "name": "ipython",
    "version": 3
   },
   "file_extension": ".py",
   "mimetype": "text/x-python",
   "name": "python",
   "nbconvert_exporter": "python",
   "pygments_lexer": "ipython3",
   "version": "3.13.3"
  }
 },
 "nbformat": 4,
 "nbformat_minor": 5
}
